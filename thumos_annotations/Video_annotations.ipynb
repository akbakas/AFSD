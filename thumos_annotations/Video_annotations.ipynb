{
 "cells": [
  {
   "cell_type": "markdown",
   "id": "continent-beatles",
   "metadata": {},
   "source": [
    "Annotating"
   ]
  },
  {
   "cell_type": "code",
   "execution_count": 1,
   "id": "vertical-conclusion",
   "metadata": {},
   "outputs": [],
   "source": [
    "# import cv2\n",
    "# import os\n",
    "# import glob\n",
    "# import pandas as pd\n",
    "# import numpy as np\n",
    "\n",
    "# annotations = pd.read_csv('/home/akhan/annotations.txt',\n",
    "#                           delim_whitespace=True,\n",
    "#                           names=['start', 'end', 'duration', 'class', 'filename'])\n",
    "\n",
    "# annotations['duration'] = 0\n",
    "\n",
    "# renamer = lambda x: x.split('.')[0] + '_crop.mp4'\n",
    "\n",
    "# annotations.filename = annotations.filename.apply(renamer)\n",
    "\n",
    "# for path, subdirs, files in os.walk('/home/akhan/Videos/data/videos'):\n",
    "#     for name in files:\n",
    "#         if name.endswith('crop.mp4'):\n",
    "#             cap = cv2.VideoCapture(os.path.join(path, name))\n",
    "#             fps = cap.get(cv2.CAP_PROP_FPS)  # OpenCV2 version 2 used \"CV_CAP_PROP_FPS\"\n",
    "#             frame_count = int(cap.get(cv2.CAP_PROP_FRAME_COUNT))\n",
    "#             duration = np.round(frame_count / fps, 3)\n",
    "#             annotations.loc[annotations['filename'] == name, 'duration'] = np.round(duration, 3)\n",
    "\n",
    "# annotations.loc[annotations['class'] == 'both_hand', 'class'] = 'BothHand'\n",
    "# annotations.loc[annotations['class'] == 'single_hand', 'class'] = 'SingleHand'\n",
    "\n",
    "# annotations.to_csv('/home/akhan/ActionDetection-AFSD/thumos_annotations/custom_annotations.csv',\n",
    "#                   header=False, index=False)"
   ]
  },
  {
   "cell_type": "markdown",
   "id": "peripheral-individual",
   "metadata": {},
   "source": [
    "Splitting videos"
   ]
  },
  {
   "cell_type": "code",
   "execution_count": 2,
   "id": "former-polish",
   "metadata": {},
   "outputs": [],
   "source": [
    "# video_names = annotations.filename.unique()\n",
    "\n",
    "# np.random.shuffle(video_names)\n",
    "\n",
    "# test = video_names[57::]\n",
    "# train = video_names[:57]\n",
    "\n",
    "# from shutil import copyfile\n",
    "\n",
    "# %cd /home/akhan/ActionDetection-AFSD/datasets/custom_dataset/\n",
    "\n",
    "# for path, subdirs, files in os.walk('/home/akhan/ActionDetection-AFSD/datasets/custom_dataset/videos/'):\n",
    "#     rename = os.path.join(path) + '_crop.mp4'\n",
    "#     if os.path.basename(rename) in test:\n",
    "#         cropvideo = [x for x in files if x.endswith('_crop.mp4')][0]\n",
    "#         copyfile(os.path.join(path, cropvideo),\n",
    "#                   os.path.join(os.getcwd(), 'test', cropvideo))\n",
    "#     elif os.path.basename(rename) in train:\n",
    "#         cropvideo = [x for x in files if x.endswith('_crop.mp4')][0]\n",
    "#         copyfile(os.path.join(path, cropvideo),\n",
    "#                   os.path.join(os.getcwd(), 'validation', cropvideo))"
   ]
  },
  {
   "cell_type": "markdown",
   "id": "limiting-madrid",
   "metadata": {},
   "source": [
    "Generating `{Val, Test}_annotation_ours.csv`"
   ]
  },
  {
   "cell_type": "code",
   "execution_count": 1,
   "id": "played-soccer",
   "metadata": {},
   "outputs": [],
   "source": [
    "import pandas as pd\n",
    "import os\n",
    "import numpy as np\n",
    "import glob \n",
    "import cv2"
   ]
  },
  {
   "cell_type": "code",
   "execution_count": 2,
   "id": "freelance-cleaning",
   "metadata": {},
   "outputs": [],
   "source": [
    "custom_annotations = pd.read_csv('/home/akhan/ActionDetection-AFSD/thumos_annotations/custom_annotations.csv',\n",
    "                                 names=['start', 'end', 'total_duration', 'type', 'video'])"
   ]
  },
  {
   "cell_type": "code",
   "execution_count": 3,
   "id": "exclusive-sampling",
   "metadata": {},
   "outputs": [],
   "source": [
    "custom_annotations.iloc[:,[0,1]] = custom_annotations.iloc[:, [0,1]].round(2)"
   ]
  },
  {
   "cell_type": "markdown",
   "id": "massive-description",
   "metadata": {},
   "source": [
    "Need to generate `startFrame` and `endFrame`"
   ]
  },
  {
   "cell_type": "code",
   "execution_count": 4,
   "id": "cloudy-quarterly",
   "metadata": {},
   "outputs": [],
   "source": [
    "videodir = '/home/akhan/ActionDetection-AFSD/datasets/custom_dataset/'\n",
    "testdir = os.path.join(videodir, 'test')\n",
    "valdir = os.path.join(videodir, 'validation')"
   ]
  },
  {
   "cell_type": "code",
   "execution_count": 5,
   "id": "copyrighted-tenant",
   "metadata": {},
   "outputs": [],
   "source": [
    "valvids = glob.glob(os.path.join(valdir, \"*.mp4\"))\n",
    "testvids = glob.glob(os.path.join(testdir, \"*.mp4\"))"
   ]
  },
  {
   "cell_type": "code",
   "execution_count": 6,
   "id": "threaded-happening",
   "metadata": {},
   "outputs": [],
   "source": [
    "def time2frame(x, fps=30.0):\n",
    "    return np.round(x * fps, decimals=0).astype(int)\n",
    "\n",
    "\n",
    "def type2idx(x):\n",
    "    if x == 'BothHand':\n",
    "        return 23\n",
    "    elif x == 'SingleHand':\n",
    "        return 24"
   ]
  },
  {
   "cell_type": "code",
   "execution_count": 7,
   "id": "isolated-constitutional",
   "metadata": {},
   "outputs": [],
   "source": [
    "start_end_frames = custom_annotations.iloc[:,[0,1]].apply(time2frame)\n",
    "start_end_frames.columns = ['startFrame', 'endFrame']"
   ]
  },
  {
   "cell_type": "code",
   "execution_count": 8,
   "id": "descending-genetics",
   "metadata": {},
   "outputs": [],
   "source": [
    "idx = custom_annotations['type'].apply(type2idx)\n",
    "idx.name = 'type_idx'"
   ]
  },
  {
   "cell_type": "code",
   "execution_count": 9,
   "id": "affiliated-template",
   "metadata": {},
   "outputs": [],
   "source": [
    "custom_annotations = custom_annotations.assign(**pd.DataFrame(idx))"
   ]
  },
  {
   "cell_type": "code",
   "execution_count": 10,
   "id": "located-stress",
   "metadata": {},
   "outputs": [],
   "source": [
    "custom_annotations = custom_annotations.assign(**start_end_frames)"
   ]
  },
  {
   "cell_type": "code",
   "execution_count": 11,
   "id": "further-increase",
   "metadata": {},
   "outputs": [],
   "source": [
    "columns = ['video', 'type', 'type_idx', 'start', 'end', 'startFrame', 'endFrame']"
   ]
  },
  {
   "cell_type": "code",
   "execution_count": 33,
   "id": "downtown-conspiracy",
   "metadata": {},
   "outputs": [],
   "source": [
    "new_custom_annotations = custom_annotations[columns]"
   ]
  },
  {
   "cell_type": "code",
   "execution_count": 34,
   "id": "racial-memphis",
   "metadata": {},
   "outputs": [
    {
     "data": {
      "text/html": [
       "<div>\n",
       "<style scoped>\n",
       "    .dataframe tbody tr th:only-of-type {\n",
       "        vertical-align: middle;\n",
       "    }\n",
       "\n",
       "    .dataframe tbody tr th {\n",
       "        vertical-align: top;\n",
       "    }\n",
       "\n",
       "    .dataframe thead th {\n",
       "        text-align: right;\n",
       "    }\n",
       "</style>\n",
       "<table border=\"1\" class=\"dataframe\">\n",
       "  <thead>\n",
       "    <tr style=\"text-align: right;\">\n",
       "      <th></th>\n",
       "      <th>video</th>\n",
       "      <th>type</th>\n",
       "      <th>type_idx</th>\n",
       "      <th>start</th>\n",
       "      <th>end</th>\n",
       "      <th>startFrame</th>\n",
       "      <th>endFrame</th>\n",
       "    </tr>\n",
       "  </thead>\n",
       "  <tbody>\n",
       "    <tr>\n",
       "      <th>0</th>\n",
       "      <td>servings00_crop.mp4</td>\n",
       "      <td>BothHand</td>\n",
       "      <td>23</td>\n",
       "      <td>0.00</td>\n",
       "      <td>1.65</td>\n",
       "      <td>0</td>\n",
       "      <td>50</td>\n",
       "    </tr>\n",
       "    <tr>\n",
       "      <th>1</th>\n",
       "      <td>servings00_crop.mp4</td>\n",
       "      <td>BothHand</td>\n",
       "      <td>23</td>\n",
       "      <td>2.31</td>\n",
       "      <td>4.52</td>\n",
       "      <td>69</td>\n",
       "      <td>136</td>\n",
       "    </tr>\n",
       "    <tr>\n",
       "      <th>2</th>\n",
       "      <td>servings00_crop.mp4</td>\n",
       "      <td>BothHand</td>\n",
       "      <td>23</td>\n",
       "      <td>5.53</td>\n",
       "      <td>7.93</td>\n",
       "      <td>166</td>\n",
       "      <td>238</td>\n",
       "    </tr>\n",
       "    <tr>\n",
       "      <th>3</th>\n",
       "      <td>servings00_crop.mp4</td>\n",
       "      <td>BothHand</td>\n",
       "      <td>23</td>\n",
       "      <td>8.48</td>\n",
       "      <td>10.23</td>\n",
       "      <td>254</td>\n",
       "      <td>307</td>\n",
       "    </tr>\n",
       "    <tr>\n",
       "      <th>4</th>\n",
       "      <td>servings00_crop.mp4</td>\n",
       "      <td>SingleHand</td>\n",
       "      <td>24</td>\n",
       "      <td>11.23</td>\n",
       "      <td>13.98</td>\n",
       "      <td>337</td>\n",
       "      <td>419</td>\n",
       "    </tr>\n",
       "  </tbody>\n",
       "</table>\n",
       "</div>"
      ],
      "text/plain": [
       "                 video        type  type_idx  start    end  startFrame  \\\n",
       "0  servings00_crop.mp4    BothHand        23   0.00   1.65           0   \n",
       "1  servings00_crop.mp4    BothHand        23   2.31   4.52          69   \n",
       "2  servings00_crop.mp4    BothHand        23   5.53   7.93         166   \n",
       "3  servings00_crop.mp4    BothHand        23   8.48  10.23         254   \n",
       "4  servings00_crop.mp4  SingleHand        24  11.23  13.98         337   \n",
       "\n",
       "   endFrame  \n",
       "0        50  \n",
       "1       136  \n",
       "2       238  \n",
       "3       307  \n",
       "4       419  "
      ]
     },
     "execution_count": 34,
     "metadata": {},
     "output_type": "execute_result"
    }
   ],
   "source": [
    "new_custom_annotations.head()"
   ]
  },
  {
   "cell_type": "code",
   "execution_count": 24,
   "id": "sporting-morris",
   "metadata": {},
   "outputs": [],
   "source": [
    "def extensionless(x: str):\n",
    "    assert '.' in x\n",
    "    return os.path.basename(x.split('.')[0])"
   ]
  },
  {
   "cell_type": "code",
   "execution_count": 38,
   "id": "rental-pearl",
   "metadata": {},
   "outputs": [],
   "source": [
    "basename_val = list(map(os.path.basename, valvids))\n",
    "basename_test = list(map(os.path.basename, testvids))"
   ]
  },
  {
   "cell_type": "code",
   "execution_count": 47,
   "id": "unauthorized-internship",
   "metadata": {},
   "outputs": [],
   "source": [
    "test_Annotation = new_custom_annotations.loc[new_custom_annotations['video'].isin(basename_test), :]"
   ]
  },
  {
   "cell_type": "code",
   "execution_count": 48,
   "id": "completed-building",
   "metadata": {},
   "outputs": [],
   "source": [
    "val_Annotation = new_custom_annotations.loc[new_custom_annotations['video'].isin(basename_val), :]"
   ]
  },
  {
   "cell_type": "code",
   "execution_count": 51,
   "id": "speaking-murray",
   "metadata": {},
   "outputs": [
    {
     "name": "stderr",
     "output_type": "stream",
     "text": [
      "<ipython-input-51-44ceef17ba08>:1: SettingWithCopyWarning: \n",
      "A value is trying to be set on a copy of a slice from a DataFrame.\n",
      "Try using .loc[row_indexer,col_indexer] = value instead\n",
      "\n",
      "See the caveats in the documentation: https://pandas.pydata.org/pandas-docs/stable/user_guide/indexing.html#returning-a-view-versus-a-copy\n",
      "  test_Annotation['video'] = test_Annotation['video'].apply(extensionless)\n",
      "<ipython-input-51-44ceef17ba08>:2: SettingWithCopyWarning: \n",
      "A value is trying to be set on a copy of a slice from a DataFrame.\n",
      "Try using .loc[row_indexer,col_indexer] = value instead\n",
      "\n",
      "See the caveats in the documentation: https://pandas.pydata.org/pandas-docs/stable/user_guide/indexing.html#returning-a-view-versus-a-copy\n",
      "  val_Annotation['video'] = val_Annotation['video'].apply(extensionless)\n"
     ]
    }
   ],
   "source": [
    "test_Annotation['video'] = test_Annotation['video'].apply(extensionless)\n",
    "val_Annotation['video'] = val_Annotation['video'].apply(extensionless)"
   ]
  },
  {
   "cell_type": "code",
   "execution_count": 53,
   "id": "impossible-share",
   "metadata": {},
   "outputs": [],
   "source": [
    "val_Annotation.to_csv('/home/akhan/ActionDetection-AFSD/thumos_annotations/servings/val_Annotation.csv',\n",
    "                     index=False)"
   ]
  },
  {
   "cell_type": "code",
   "execution_count": 54,
   "id": "alike-narrow",
   "metadata": {},
   "outputs": [],
   "source": [
    "test_Annotation.to_csv('/home/akhan/ActionDetection-AFSD/thumos_annotations/servings/test_Annotation.csv',\n",
    "                     index=False)"
   ]
  }
 ],
 "metadata": {
  "kernelspec": {
   "display_name": "Python 3",
   "language": "python",
   "name": "python3"
  },
  "language_info": {
   "codemirror_mode": {
    "name": "ipython",
    "version": 3
   },
   "file_extension": ".py",
   "mimetype": "text/x-python",
   "name": "python",
   "nbconvert_exporter": "python",
   "pygments_lexer": "ipython3",
   "version": "3.8.3"
  }
 },
 "nbformat": 4,
 "nbformat_minor": 5
}
