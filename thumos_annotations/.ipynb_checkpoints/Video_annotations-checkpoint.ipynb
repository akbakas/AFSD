{
 "cells": [
  {
   "cell_type": "markdown",
   "id": "graphic-sense",
   "metadata": {},
   "source": [
    "Annotating"
   ]
  },
  {
   "cell_type": "code",
   "execution_count": 1,
   "id": "soviet-montana",
   "metadata": {},
   "outputs": [],
   "source": [
    "# import cv2\n",
    "# import os\n",
    "# import glob\n",
    "# import pandas as pd\n",
    "# import numpy as np\n",
    "\n",
    "# annotations = pd.read_csv('/home/akhan/annotations.txt',\n",
    "#                           delim_whitespace=True,\n",
    "#                           names=['start', 'end', 'duration', 'class', 'filename'])\n",
    "\n",
    "# annotations['duration'] = 0\n",
    "\n",
    "# renamer = lambda x: x.split('.')[0] + '_crop.mp4'\n",
    "\n",
    "# annotations.filename = annotations.filename.apply(renamer)\n",
    "\n",
    "# for path, subdirs, files in os.walk('/home/akhan/Videos/data/videos'):\n",
    "#     for name in files:\n",
    "#         if name.endswith('crop.mp4'):\n",
    "#             cap = cv2.VideoCapture(os.path.join(path, name))\n",
    "#             fps = cap.get(cv2.CAP_PROP_FPS)  # OpenCV2 version 2 used \"CV_CAP_PROP_FPS\"\n",
    "#             frame_count = int(cap.get(cv2.CAP_PROP_FRAME_COUNT))\n",
    "#             duration = np.round(frame_count / fps, 3)\n",
    "#             annotations.loc[annotations['filename'] == name, 'duration'] = np.round(duration, 3)\n",
    "\n",
    "# annotations.loc[annotations['class'] == 'both_hand', 'class'] = 'BothHand'\n",
    "# annotations.loc[annotations['class'] == 'single_hand', 'class'] = 'SingleHand'\n",
    "\n",
    "# annotations.to_csv('/home/akhan/ActionDetection-AFSD/thumos_annotations/custom_annotations.csv',\n",
    "#                   header=False, index=False)"
   ]
  },
  {
   "cell_type": "markdown",
   "id": "collect-litigation",
   "metadata": {},
   "source": [
    "Splitting videos"
   ]
  },
  {
   "cell_type": "code",
   "execution_count": 2,
   "id": "historic-switch",
   "metadata": {},
   "outputs": [],
   "source": [
    "# video_names = annotations.filename.unique()\n",
    "\n",
    "# np.random.shuffle(video_names)\n",
    "\n",
    "# test = video_names[57::]\n",
    "# train = video_names[:57]\n",
    "\n",
    "# from shutil import copyfile\n",
    "\n",
    "# %cd /home/akhan/ActionDetection-AFSD/datasets/custom_dataset/\n",
    "\n",
    "# for path, subdirs, files in os.walk('/home/akhan/ActionDetection-AFSD/datasets/custom_dataset/videos/'):\n",
    "#     rename = os.path.join(path) + '_crop.mp4'\n",
    "#     if os.path.basename(rename) in test:\n",
    "#         cropvideo = [x for x in files if x.endswith('_crop.mp4')][0]\n",
    "#         copyfile(os.path.join(path, cropvideo),\n",
    "#                   os.path.join(os.getcwd(), 'test', cropvideo))\n",
    "#     elif os.path.basename(rename) in train:\n",
    "#         cropvideo = [x for x in files if x.endswith('_crop.mp4')][0]\n",
    "#         copyfile(os.path.join(path, cropvideo),\n",
    "#                   os.path.join(os.getcwd(), 'validation', cropvideo))"
   ]
  },
  {
   "cell_type": "markdown",
   "id": "running-repeat",
   "metadata": {},
   "source": [
    "Generating `{Val, Test}_annotation_ours.csv`"
   ]
  },
  {
   "cell_type": "code",
   "execution_count": 4,
   "id": "atlantic-adjustment",
   "metadata": {},
   "outputs": [],
   "source": [
    "import pandas as pd\n",
    "import os\n",
    "import numpy as np\n",
    "import glob \n",
    "import cv2"
   ]
  },
  {
   "cell_type": "code",
   "execution_count": 2,
   "id": "floral-binding",
   "metadata": {},
   "outputs": [],
   "source": [
    "custom_annotations = pd.read_csv('/home/akhan/ActionDetection-AFSD/thumos_annotations/custom_annotations.csv',\n",
    "                                 names=['start', 'end', 'total_duration', 'type', 'video'])"
   ]
  },
  {
   "cell_type": "code",
   "execution_count": 52,
   "id": "least-poultry",
   "metadata": {},
   "outputs": [],
   "source": [
    "custom_annotations.iloc[:,[0,1]] = custom_annotations.iloc[:, [0,1]].round(2)"
   ]
  },
  {
   "cell_type": "markdown",
   "id": "checked-exclusive",
   "metadata": {},
   "source": [
    "Need to generate `startFrame` and `endFrame`"
   ]
  },
  {
   "cell_type": "code",
   "execution_count": 17,
   "id": "going-valuable",
   "metadata": {},
   "outputs": [],
   "source": [
    "videodir = '/home/akhan/ActionDetection-AFSD/datasets/custom_dataset/'\n",
    "testdir = os.path.join(videodir, 'test')\n",
    "valdir = os.path.join(videodir, 'validation')"
   ]
  },
  {
   "cell_type": "code",
   "execution_count": 23,
   "id": "unnecessary-bolivia",
   "metadata": {},
   "outputs": [],
   "source": [
    "valvids = glob.glob(os.path.join(valdir, \"*.mp4\"))\n",
    "testvids = glob.glob(os.path.join(testdir, \"*.mp4\"))"
   ]
  },
  {
   "cell_type": "code",
   "execution_count": 62,
   "id": "fifth-squad",
   "metadata": {},
   "outputs": [],
   "source": [
    "def time2frame(df: \"pd.DataFrame\", fps=30.0):\n",
    "    startF = np.round(fps * df['start'], decimals=0).astype(int)\n",
    "    endF = np.round(fps * df['end'], decimals=0).astype(int)\n",
    "    return startF, endF"
   ]
  },
  {
   "cell_type": "code",
   "execution_count": null,
   "id": "superior-chest",
   "metadata": {},
   "outputs": [],
   "source": [
    "time2frame()"
   ]
  },
  {
   "cell_type": "code",
   "execution_count": 60,
   "id": "double-terrorist",
   "metadata": {},
   "outputs": [
    {
     "data": {
      "text/html": [
       "<div>\n",
       "<style scoped>\n",
       "    .dataframe tbody tr th:only-of-type {\n",
       "        vertical-align: middle;\n",
       "    }\n",
       "\n",
       "    .dataframe tbody tr th {\n",
       "        vertical-align: top;\n",
       "    }\n",
       "\n",
       "    .dataframe thead th {\n",
       "        text-align: right;\n",
       "    }\n",
       "</style>\n",
       "<table border=\"1\" class=\"dataframe\">\n",
       "  <thead>\n",
       "    <tr style=\"text-align: right;\">\n",
       "      <th></th>\n",
       "      <th>start</th>\n",
       "      <th>end</th>\n",
       "      <th>total_duration</th>\n",
       "      <th>type</th>\n",
       "      <th>video</th>\n",
       "    </tr>\n",
       "  </thead>\n",
       "  <tbody>\n",
       "    <tr>\n",
       "      <th>0</th>\n",
       "      <td>0.00</td>\n",
       "      <td>1.65</td>\n",
       "      <td>32.1</td>\n",
       "      <td>BothHand</td>\n",
       "      <td>servings00_crop.mp4</td>\n",
       "    </tr>\n",
       "    <tr>\n",
       "      <th>1</th>\n",
       "      <td>2.31</td>\n",
       "      <td>4.52</td>\n",
       "      <td>32.1</td>\n",
       "      <td>BothHand</td>\n",
       "      <td>servings00_crop.mp4</td>\n",
       "    </tr>\n",
       "    <tr>\n",
       "      <th>2</th>\n",
       "      <td>5.53</td>\n",
       "      <td>7.93</td>\n",
       "      <td>32.1</td>\n",
       "      <td>BothHand</td>\n",
       "      <td>servings00_crop.mp4</td>\n",
       "    </tr>\n",
       "    <tr>\n",
       "      <th>3</th>\n",
       "      <td>8.48</td>\n",
       "      <td>10.23</td>\n",
       "      <td>32.1</td>\n",
       "      <td>BothHand</td>\n",
       "      <td>servings00_crop.mp4</td>\n",
       "    </tr>\n",
       "    <tr>\n",
       "      <th>4</th>\n",
       "      <td>11.23</td>\n",
       "      <td>13.98</td>\n",
       "      <td>32.1</td>\n",
       "      <td>SingleHand</td>\n",
       "      <td>servings00_crop.mp4</td>\n",
       "    </tr>\n",
       "  </tbody>\n",
       "</table>\n",
       "</div>"
      ],
      "text/plain": [
       "   start    end  total_duration        type                video\n",
       "0   0.00   1.65            32.1    BothHand  servings00_crop.mp4\n",
       "1   2.31   4.52            32.1    BothHand  servings00_crop.mp4\n",
       "2   5.53   7.93            32.1    BothHand  servings00_crop.mp4\n",
       "3   8.48  10.23            32.1    BothHand  servings00_crop.mp4\n",
       "4  11.23  13.98            32.1  SingleHand  servings00_crop.mp4"
      ]
     },
     "execution_count": 60,
     "metadata": {},
     "output_type": "execute_result"
    }
   ],
   "source": [
    "custom_annotations.head()"
   ]
  },
  {
   "cell_type": "code",
   "execution_count": null,
   "id": "injured-tiffany",
   "metadata": {},
   "outputs": [],
   "source": []
  },
  {
   "cell_type": "code",
   "execution_count": null,
   "id": "refined-address",
   "metadata": {},
   "outputs": [],
   "source": []
  },
  {
   "cell_type": "code",
   "execution_count": null,
   "id": "cheap-frame",
   "metadata": {},
   "outputs": [],
   "source": []
  }
 ],
 "metadata": {
  "kernelspec": {
   "display_name": "Python 3",
   "language": "python",
   "name": "python3"
  },
  "language_info": {
   "codemirror_mode": {
    "name": "ipython",
    "version": 3
   },
   "file_extension": ".py",
   "mimetype": "text/x-python",
   "name": "python",
   "nbconvert_exporter": "python",
   "pygments_lexer": "ipython3",
   "version": "3.8.3"
  }
 },
 "nbformat": 4,
 "nbformat_minor": 5
}
